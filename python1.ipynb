{
  "nbformat": 4,
  "nbformat_minor": 0,
  "metadata": {
    "colab": {
      "provenance": []
    },
    "kernelspec": {
      "name": "python3",
      "display_name": "Python 3"
    },
    "language_info": {
      "name": "python"
    }
  },
  "cells": [
    {
      "cell_type": "code",
      "execution_count": null,
      "metadata": {
        "id": "t2VHQl2QFU5u"
      },
      "outputs": [],
      "source": []
    },
    {
      "cell_type": "markdown",
      "source": [
        "what is python why it is useful\n",
        "ans. python is programming language"
      ],
      "metadata": {
        "id": "x_SiXcU8FaMg"
      }
    },
    {
      "cell_type": "code",
      "source": [],
      "metadata": {
        "id": "tNZsatY6FtQt"
      },
      "execution_count": null,
      "outputs": []
    },
    {
      "cell_type": "markdown",
      "source": [],
      "metadata": {
        "id": "i8iACrstFujc"
      }
    }
  ]
}